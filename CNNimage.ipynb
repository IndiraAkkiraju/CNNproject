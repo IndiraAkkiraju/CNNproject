{
 "cells": [
  {
   "cell_type": "code",
   "execution_count": 4,
   "metadata": {},
   "outputs": [
    {
     "ename": "SyntaxError",
     "evalue": "incomplete input (2626999964.py, line 55)",
     "output_type": "error",
     "traceback": [
      "\u001b[1;36m  Cell \u001b[1;32mIn[4], line 55\u001b[1;36m\u001b[0m\n\u001b[1;33m    }\u001b[0m\n\u001b[1;37m     ^\u001b[0m\n\u001b[1;31mSyntaxError\u001b[0m\u001b[1;31m:\u001b[0m incomplete input\n"
     ]
    }
   ],
   "source": [
    "{\n",
    " \"cells\": [\n",
    "  {\n",
    "   \"cell_type\": \"code\",\n",
    "   \"execution_count\": 35,\n",
    "   \"metadata\": {},\n",
    "   \"outputs\": [\n",
    "    {\n",
    "     \"name\": \"stdout\",\n",
    "     \"output_type\": \"stream\",\n",
    "     \"text\": [\n",
    "      \"_________________________________________________________________\\n\",\n",
    "      \"Layer (type)                 Output Shape              Param #   \\n\",\n",
    "      \"=================================================================\\n\",\n",
    "      \"input_31 (InputLayer)        (None, 256, 256, 3)       0         \\n\",\n",
    "      \"_________________________________________________________________\\n\",\n",
    "      \"conv2d_65 (Conv2D)           (None, 256, 256, 64)      1792      \\n\",\n",
    "      \"_________________________________________________________________\\n\",\n",
    "      \"max_pooling2d_36 (MaxPooling (None, 64, 64, 64)        0         \\n\",\n",
    "      \"_________________________________________________________________\\n\",\n",
    "      \"conv2d_66 (Conv2D)           (None, 64, 64, 64)        36928     \\n\",\n",
    "      \"_________________________________________________________________\\n\",\n",
    "      \"max_pooling2d_37 (MaxPooling (None, 16, 16, 64)        0         \\n\",\n",
    "      \"_________________________________________________________________\\n\",\n",
    "      \"flatten_4 (Flatten)          (None, 16384)             0         \\n\",\n",
    "      \"_________________________________________________________________\\n\",\n",
    "      \"dense_4 (Dense)              (None, 1000)              16385000  \\n\",\n",
    "      \"_________________________________________________________________\\n\",\n",
    "      \"softmax_8 (Softmax)          (None, 1000)              0         \\n\",\n",
    "      \"=================================================================\\n\",\n",
    "      \"Total params: 16,423,720\\n\",\n",
    "      \"Trainable params: 16,423,720\\n\",\n",
    "      \"Non-trainable params: 0\\n\",\n",
    "      \"_________________________________________________________________\\n\",\n",
    "      \"None\\n\"\n",
    "     ]\n",
    "    }\n",
    "   ],\n",
    "   \"source\": [\n",
    "    \"from keras.layers import Dense, Conv2D, Flatten, MaxPooling2D, Softmax\\n\",\n",
    "    \"from keras import Input, Model\\n\",\n",
    "    \"inputs = Input(shape=(256,256,3))\\n\",\n",
    "    \"conv1 = Conv2D(64, kernel_size=3, activation='relu', padding='same')(inputs)\\n\",\n",
    "    \"pool1 = MaxPooling2D(pool_size=(2, 2), strides=4)(conv1)\\n\",\n",
    "    \"\\n\",\n",
    "    \"conv2 = Conv2D(64, kernel_size=3, activation='relu', padding='same')(pool1)\\n\",\n",
    "    \"pool2 = MaxPooling2D(pool_size=(2, 2), strides=4)(conv2)\\n\",\n",
    "    \"\\n\",\n",
    "    \"flat = Flatten()(pool2)\\n\",\n",
    "    \"dense1 = Dense(1000)(flat)\\n\",\n",
    "    \"output = Softmax()(dense1)\\n\",\n",
    "    \"model = Model(inputs, output)\\n\",\n",
    "    \"print(model.summary())\"\n",
    "   ]\n",
    "  }"
   ]
  },
  {
   "cell_type": "code",
   "execution_count": null,
   "metadata": {},
   "outputs": [],
   "source": []
  }
 ],
 "metadata": {
  "kernelspec": {
   "display_name": "Python 3",
   "language": "python",
   "name": "python3"
  },
  "language_info": {
   "codemirror_mode": {
    "name": "ipython",
    "version": 3
   },
   "file_extension": ".py",
   "mimetype": "text/x-python",
   "name": "python",
   "nbconvert_exporter": "python",
   "pygments_lexer": "ipython3",
   "version": "3.11.3"
  }
 },
 "nbformat": 4,
 "nbformat_minor": 2
}
